{
 "cells": [
  {
   "cell_type": "markdown",
   "metadata": {
    "id": "GzeJ4ZmX1x7i"
   },
   "source": [
    "#I. Amerini, L. Ballan, R. Caldelli, A. Del Bimbo, G. Serra. “A SIFT-based forensic method for copy-move attack detection and transformation recovery”, IEEE Transactions on Information Forensics and Security, vol. 6, issue 3, pp. 1099-1110, 2011.\n",
    "# Dataset reference"
   ]
  },
  {
   "cell_type": "markdown",
   "metadata": {
    "id": "Zvtciv2h0drs"
   },
   "source": [
    "import kagglehub\n",
    "\n",
    "Download latest version\n",
    "path = kagglehub.dataset_download(\"nishaahin/miccf600\")\n",
    "\n",
    "print(\"Path to dataset files:\", path)"
   ]
  },
  {
   "cell_type": "markdown",
   "metadata": {
    "id": "RZxHY6bUTQ49"
   },
   "source": [
    "prompt: I want to add the dataset in this notebook that is in zip format\n",
    "\n",
    "import zipfile\n",
    "\n",
    "Assuming 'path' variable holds the path to the downloaded zip file\n",
    "with zipfile.ZipFile(path, 'r') as zip_ref:\n",
    "    zip_ref.extractall('./extracted_dataset')\n",
    "\n",
    "Now the dataset files are extracted to the 'extracted_dataset' folder.\n"
   ]
  },
  {
   "cell_type": "code",
   "execution_count": null,
   "metadata": {},
   "outputs": [],
   "source": []
  },
  {
   "cell_type": "markdown",
   "metadata": {
    "id": "ld5q6TfbABmD"
   },
   "source": [
    "# BRISK FEATURE"
   ]
  },
  {
   "cell_type": "code",
   "execution_count": 2,
   "metadata": {
    "id": "3HA21aIo03OX"
   },
   "outputs": [
    {
     "name": "stdout",
     "output_type": "stream",
     "text": [
      "Error: Unable to load image. Check the path and try again.\n"
     ]
    },
    {
     "ename": "error",
     "evalue": "OpenCV(4.11.0) D:\\a\\opencv-python\\opencv-python\\opencv\\modules\\imgproc\\src\\resize.cpp:4208: error: (-215:Assertion failed) !ssize.empty() in function 'cv::resize'\n",
     "output_type": "error",
     "traceback": [
      "\u001b[1;31m---------------------------------------------------------------------------\u001b[0m",
      "\u001b[1;31merror\u001b[0m                                     Traceback (most recent call last)",
      "Cell \u001b[1;32mIn[2], line 19\u001b[0m\n\u001b[0;32m     16\u001b[0m brisk \u001b[38;5;241m=\u001b[39m cv2\u001b[38;5;241m.\u001b[39mBRISK_create()\n\u001b[0;32m     18\u001b[0m \u001b[38;5;66;03m# Detect keypoints and compute descriptors\u001b[39;00m\n\u001b[1;32m---> 19\u001b[0m keypoints, descriptors \u001b[38;5;241m=\u001b[39m \u001b[43mbrisk\u001b[49m\u001b[38;5;241;43m.\u001b[39;49m\u001b[43mdetectAndCompute\u001b[49m\u001b[43m(\u001b[49m\u001b[43mimage\u001b[49m\u001b[43m,\u001b[49m\u001b[43m \u001b[49m\u001b[38;5;28;43;01mNone\u001b[39;49;00m\u001b[43m)\u001b[49m\n\u001b[0;32m     21\u001b[0m \u001b[38;5;66;03m# Draw the detected keypoints on the image\u001b[39;00m\n\u001b[0;32m     22\u001b[0m keypoints_image \u001b[38;5;241m=\u001b[39m cv2\u001b[38;5;241m.\u001b[39mdrawKeypoints(\n\u001b[0;32m     23\u001b[0m     image, keypoints, \u001b[38;5;28;01mNone\u001b[39;00m, color\u001b[38;5;241m=\u001b[39m(\u001b[38;5;241m0\u001b[39m, \u001b[38;5;241m255\u001b[39m, \u001b[38;5;241m0\u001b[39m), flags\u001b[38;5;241m=\u001b[39mcv2\u001b[38;5;241m.\u001b[39mDrawMatchesFlags_DRAW_RICH_KEYPOINTS\n\u001b[0;32m     24\u001b[0m )\n",
      "\u001b[1;31merror\u001b[0m: OpenCV(4.11.0) D:\\a\\opencv-python\\opencv-python\\opencv\\modules\\imgproc\\src\\resize.cpp:4208: error: (-215:Assertion failed) !ssize.empty() in function 'cv::resize'\n"
     ]
    }
   ],
   "source": [
    "# BRISK FEATURES\n",
    "\n",
    "import cv2\n",
    "import matplotlib.pyplot as plt\n",
    "\n",
    "# Load the input image\n",
    "image_path = \"OneDrive/Documentos/SAKSHI_MCA/COPY MOVE DETECTION/MICC/MICC_F600/_r30_s1200berries_gt.png\"  # Replace with the path to your image\n",
    "image = cv2.imread(image_path, cv2.IMREAD_GRAYSCALE)\n",
    "\n",
    "# Check if the image is loaded successfully\n",
    "if image is None:\n",
    "    print(\"Error: Unable to load image. Check the path and try again.\")\n",
    "    exit()\n",
    "\n",
    "# Initialize the BRISK detector\n",
    "brisk = cv2.BRISK_create()\n",
    "\n",
    "# Detect keypoints and compute descriptors\n",
    "keypoints, descriptors = brisk.detectAndCompute(image, None)\n",
    "\n",
    "# Draw the detected keypoints on the image\n",
    "keypoints_image = cv2.drawKeypoints(\n",
    "    image, keypoints, None, color=(0, 255, 0), flags=cv2.DrawMatchesFlags_DRAW_RICH_KEYPOINTS\n",
    ")\n",
    "\n",
    "# Display the image with keypoints\n",
    "plt.figure(figsize=(10, 6))\n",
    "plt.title(\"BRISK Keypoints\")\n",
    "plt.imshow(keypoints_image, cmap=\"gray\")\n",
    "plt.axis(\"off\")\n",
    "plt.show()\n",
    "\n",
    "# Print the results\n",
    "print(f\"Number of keypoints detected: {len(keypoints)}\")\n",
    "if descriptors is not None:\n",
    "    print(f\"Descriptor shape: {descriptors.shape}\")\n",
    "else:\n",
    "    print(\"No descriptors computed.\")\n"
   ]
  },
  {
   "cell_type": "code",
   "execution_count": null,
   "metadata": {
    "id": "-jhAcxxE1lGC"
   },
   "outputs": [],
   "source": [
    "print(keypoints)"
   ]
  },
  {
   "cell_type": "code",
   "execution_count": null,
   "metadata": {
    "id": "bxiqAyK-1oPr"
   },
   "outputs": [],
   "source": [
    "print(descriptors)"
   ]
  },
  {
   "cell_type": "markdown",
   "metadata": {
    "id": "0Rg-SCzq2Y0u"
   },
   "source": [
    "KAZE FEATURE"
   ]
  },
  {
   "cell_type": "code",
   "execution_count": null,
   "metadata": {
    "id": "oMKa1iNm2ZRH"
   },
   "outputs": [],
   "source": [
    "import cv2\n",
    "import matplotlib.pyplot as plt\n",
    "\n",
    "# Load the input image\n",
    "image_path = \"OneDrive/Documentos/SAKSHI_MCA/COPY MOVE DETECTION/MICC/MICC_F600/_r30_s1200berries_gt.png\"  # Replace with the path to your image\n",
    "image = cv2.imread(image_path, cv2.IMREAD_GRAYSCALE)\n",
    "\n",
    "# Check if the image is loaded successfully\n",
    "if image is None:\n",
    "    print(\"Error: Unable to load image. Check the path and try again.\")\n",
    "    exit()\n",
    "\n",
    "# Initialize the KAZE detector\n",
    "kaze = cv2.KAZE_create()\n",
    "\n",
    "# Detect keypoints and compute descriptors\n",
    "keypoints, descriptors = kaze.detectAndCompute(image, None)\n",
    "\n",
    "# Draw the detected keypoints on the image\n",
    "keypoints_image = cv2.drawKeypoints(\n",
    "    image, keypoints, None, color=(0, 255, 0), flags=cv2.DrawMatchesFlags_DRAW_RICH_KEYPOINTS\n",
    ")\n",
    "\n",
    "# Display the image with keypoints\n",
    "plt.figure(figsize=(10, 6))\n",
    "plt.title(\"KAZE Keypoints\")\n",
    "plt.imshow(keypoints_image, cmap=\"gray\")\n",
    "plt.axis(\"off\")\n",
    "plt.show()\n",
    "\n",
    "# Print the results\n",
    "print(f\"Number of keypoints detected: {len(keypoints)}\")\n",
    "if descriptors is not None:\n",
    "    print(f\"Descriptor shape: {descriptors.shape}\")\n",
    "else:\n",
    "    print(\"No descriptors computed.\")\n"
   ]
  },
  {
   "cell_type": "code",
   "execution_count": null,
   "metadata": {
    "id": "pEySGTma2e2l"
   },
   "outputs": [],
   "source": [
    "print(keypoints)"
   ]
  },
  {
   "cell_type": "code",
   "execution_count": null,
   "metadata": {
    "id": "Wl_Jg6F-AU_f"
   },
   "outputs": [],
   "source": [
    "print(descriptors)"
   ]
  },
  {
   "cell_type": "code",
   "execution_count": null,
   "metadata": {
    "id": "4I44JRYIAZO2"
   },
   "outputs": [],
   "source": []
  },
  {
   "cell_type": "markdown",
   "metadata": {
    "id": "vy7JOr4gAZjE"
   },
   "source": [
    "LBP FEATURE"
   ]
  },
  {
   "cell_type": "code",
   "execution_count": null,
   "metadata": {
    "id": "R9FW2VL1AcSK"
   },
   "outputs": [],
   "source": [
    "import cv2\n",
    "import numpy as np\n",
    "import matplotlib.pyplot as plt\n",
    "from skimage.feature import local_binary_pattern\n",
    "from skimage.color import label2rgb\n",
    "\n",
    "# Parameters for LBP\n",
    "radius = 1  # Radius of the circular neighborhood\n",
    "n_points = 8 * radius  # Number of points in the neighborhood\n",
    "\n",
    "# Load the input image\n",
    "image_path = \"OneDrive/Documentos/SAKSHI_MCA/COPY MOVE DETECTION/MICC/MICC_F600/_r30_s1200berries_gt.png\"  # Replace with your image path\n",
    "image = cv2.imread(image_path, cv2.IMREAD_GRAYSCALE)\n",
    "\n",
    "# Check if the image is loaded successfully\n",
    "if image is None:\n",
    "    print(\"Error: Unable to load image. Check the path and try again.\")\n",
    "    exit()\n",
    "\n",
    "# Compute LBP features\n",
    "lbp = local_binary_pattern(image, n_points, radius, method=\"uniform\")\n",
    "\n",
    "# Create a histogram of the LBP features\n",
    "lbp_hist, _ = np.histogram(lbp.ravel(), bins=np.arange(0, n_points + 3), range=(0, n_points + 2))\n",
    "\n",
    "# Normalize the histogram\n",
    "lbp_hist = lbp_hist.astype(\"float\")\n",
    "lbp_hist /= (lbp_hist.sum() + 1e-6)\n",
    "\n",
    "# Visualize the LBP image\n",
    "plt.figure(figsize=(12, 6))\n",
    "plt.subplot(1, 2, 1)\n",
    "plt.title(\"Original Image\")\n",
    "plt.imshow(image, cmap=\"gray\")\n",
    "plt.axis(\"off\")\n",
    "\n",
    "plt.subplot(1, 2, 2)\n",
    "plt.title(\"LBP Image\")\n",
    "plt.imshow(lbp, cmap=\"gray\")\n",
    "plt.axis(\"off\")\n",
    "\n",
    "plt.show()\n",
    "\n",
    "# Print the normalized LBP histogram\n",
    "print(\"Normalized LBP Histogram:\")\n",
    "print(lbp_hist)"
   ]
  },
  {
   "cell_type": "code",
   "execution_count": null,
   "metadata": {
    "id": "kTZszvtqAhU3"
   },
   "outputs": [],
   "source": [
    "print(lbp[0])"
   ]
  },
  {
   "cell_type": "code",
   "execution_count": null,
   "metadata": {
    "id": "igkhA1jVAk-D"
   },
   "outputs": [],
   "source": [
    "if hasattr(cv2, 'xfeatures2d'):\n",
    "    print(\"SURF is available!\")\n",
    "    surf = cv2.xfeatures2d.SURF_create()\n",
    "else:\n",
    "    print(\"SURF is not available.\")"
   ]
  },
  {
   "cell_type": "code",
   "execution_count": null,
   "metadata": {
    "id": "Lqq1LpzzApI-"
   },
   "outputs": [],
   "source": [
    "from platform import python_version\n",
    "\n",
    "print(python_version())"
   ]
  },
  {
   "cell_type": "code",
   "execution_count": null,
   "metadata": {
    "id": "NXSSQdimAsxA"
   },
   "outputs": [],
   "source": []
  },
  {
   "cell_type": "markdown",
   "metadata": {
    "id": "oMgrv7ekAtm5"
   },
   "source": [
    "ORB FEATURE"
   ]
  },
  {
   "cell_type": "code",
   "execution_count": null,
   "metadata": {
    "id": "4k0Q0U4-AwDz"
   },
   "outputs": [],
   "source": [
    "import cv2\n",
    "import matplotlib.pyplot as plt\n",
    "\n",
    "# Load the input image\n",
    "image_path =\"OneDrive/Documentos/SAKSHI_MCA/COPY MOVE DETECTION/MICC/MICC_F600/_r30_s1200berries_gt.png\"\n",
    "image = cv2.imread(image_path, cv2.IMREAD_GRAYSCALE)\n",
    "\n",
    "# Check if the image is loaded\n",
    "if image is None:\n",
    "    print(\"Error: Image not loaded. Please check the path.\")\n",
    "    exit()\n",
    "\n",
    "# Create an ORB detector\n",
    "orb = cv2.ORB_create()\n",
    "\n",
    "# Detect keypoints and compute descriptors\n",
    "keypoints, descriptors = orb.detectAndCompute(image, None)\n",
    "\n",
    "# Draw the keypoints on the image\n",
    "keypoints_image = cv2.drawKeypoints(image, keypoints, None, color=(0, 255, 0), flags=0)\n",
    "\n",
    "# Display the original image with keypoints\n",
    "plt.figure(figsize=(10, 6))\n",
    "plt.title(\"ORB Keypoints\")\n",
    "plt.imshow(keypoints_image, cmap='gray')\n",
    "plt.axis(\"off\")\n",
    "plt.show()\n",
    "\n",
    "# Print the number of keypoints and descriptors\n",
    "print(f\"Number of keypoints detected: {len(keypoints)}\")\n",
    "if descriptors is not None:\n",
    "    print(f\"Descriptor shape: {descriptors.shape}\")\n",
    "else:\n",
    "    print(\"No descriptors computed.\")"
   ]
  },
  {
   "cell_type": "code",
   "execution_count": null,
   "metadata": {
    "id": "WFPjzhFXA0b4"
   },
   "outputs": [],
   "source": [
    "print(keypoints)"
   ]
  },
  {
   "cell_type": "code",
   "execution_count": null,
   "metadata": {
    "id": "Ulljd97MA3sg"
   },
   "outputs": [],
   "source": [
    "print(descriptors)"
   ]
  },
  {
   "cell_type": "code",
   "execution_count": null,
   "metadata": {
    "id": "kxyJAkniA75p"
   },
   "outputs": [],
   "source": []
  },
  {
   "cell_type": "markdown",
   "metadata": {
    "id": "YPK9bJv8A8NZ"
   },
   "source": [
    "SIFT FEATURE"
   ]
  },
  {
   "cell_type": "code",
   "execution_count": null,
   "metadata": {
    "id": "vfAe8xcmA-iN"
   },
   "outputs": [],
   "source": [
    "import cv2\n",
    "from matplotlib import pyplot as plt\n",
    "\n",
    "# Load an image\n",
    "image = cv2.imread('_r30_s1200berries.png')\n",
    "# OneDrive/Documentos/SAKSHI_MCA/COPY MOVE DETECTION/MICC/MICC_F600/_r30_s1200berries_gt.png\n",
    "# Resize the image using OpenCV's resize function\n",
    "image = cv2.resize(image, (480, 480))\n",
    "\n",
    "# Initialize the SIFT detector\n",
    "sift = cv2.SIFT_create()\n",
    "\n",
    "# Detect keypoints and compute descriptors\n",
    "keypoints, descriptors = sift.detectAndCompute(image, None)\n",
    "\n",
    "# Draw keypoints on the image\n",
    "image_with_keypoints = cv2.drawKeypoints(image, keypoints, None)\n",
    "\n",
    "# Save the output image\n",
    "cv2.imwrite('SIFT_output_image.png', image_with_keypoints)\n",
    "\n",
    "# Convert BGR to RGB for correct color rendering in matplotlib\n",
    "image_with_keypoints_rgb = cv2.cvtColor(image_with_keypoints, cv2.COLOR_BGR2RGB)\n",
    "\n",
    "# Display the image using matplotlib\n",
    "plt.imshow(image_with_keypoints_rgb)\n",
    "plt.axis('off')  # Hide axes for better visualization\n",
    "plt.title(\"Image with SIFT Keypoints\")\n",
    "plt.show()"
   ]
  },
  {
   "cell_type": "code",
   "execution_count": null,
   "metadata": {
    "id": "QivscBFDBDEA"
   },
   "outputs": [],
   "source": []
  }
 ],
 "metadata": {
  "colab": {
   "provenance": []
  },
  "kernelspec": {
   "display_name": "Python 3 (ipykernel)",
   "language": "python",
   "name": "python3"
  },
  "language_info": {
   "codemirror_mode": {
    "name": "ipython",
    "version": 3
   },
   "file_extension": ".py",
   "mimetype": "text/x-python",
   "name": "python",
   "nbconvert_exporter": "python",
   "pygments_lexer": "ipython3",
   "version": "3.12.7"
  }
 },
 "nbformat": 4,
 "nbformat_minor": 4
}
